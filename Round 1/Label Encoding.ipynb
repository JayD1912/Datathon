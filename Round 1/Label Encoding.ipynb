{
 "cells": [
  {
   "cell_type": "code",
   "execution_count": 243,
   "metadata": {},
   "outputs": [],
   "source": [
    "import pandas as pd\n",
    "import seaborn as sns\n",
    "from sklearn.preprocessing import LabelEncoder\n",
    "import numpy as np\n",
    "\n"
   ]
  },
  {
   "cell_type": "code",
   "execution_count": 244,
   "metadata": {
    "scrolled": true
   },
   "outputs": [
    {
     "data": {
      "text/html": [
       "<div>\n",
       "<style scoped>\n",
       "    .dataframe tbody tr th:only-of-type {\n",
       "        vertical-align: middle;\n",
       "    }\n",
       "\n",
       "    .dataframe tbody tr th {\n",
       "        vertical-align: top;\n",
       "    }\n",
       "\n",
       "    .dataframe thead th {\n",
       "        text-align: right;\n",
       "    }\n",
       "</style>\n",
       "<table border=\"1\" class=\"dataframe\">\n",
       "  <thead>\n",
       "    <tr style=\"text-align: right;\">\n",
       "      <th></th>\n",
       "      <th>Unnamed: 0</th>\n",
       "      <th>Complaint_ID</th>\n",
       "      <th>Date received</th>\n",
       "      <th>Product</th>\n",
       "      <th>Sub-product</th>\n",
       "      <th>Issue</th>\n",
       "      <th>Sub-issue</th>\n",
       "      <th>Consumer complaint narrative</th>\n",
       "      <th>Company public response</th>\n",
       "      <th>Company</th>\n",
       "      <th>State</th>\n",
       "      <th>ZIP code</th>\n",
       "      <th>Tags</th>\n",
       "      <th>Consumer consent provided?</th>\n",
       "      <th>Submitted via</th>\n",
       "      <th>Date sent to company</th>\n",
       "      <th>Company response to consumer</th>\n",
       "      <th>Consumer disputed?</th>\n",
       "      <th>Timely response?</th>\n",
       "    </tr>\n",
       "  </thead>\n",
       "  <tbody>\n",
       "    <tr>\n",
       "      <th>0</th>\n",
       "      <td>0</td>\n",
       "      <td>2535701</td>\n",
       "      <td>6/8/2017</td>\n",
       "      <td>Mortgage</td>\n",
       "      <td>Conventional home mortgage</td>\n",
       "      <td>Struggling to pay mortgage</td>\n",
       "      <td>NaN</td>\n",
       "      <td>NaN</td>\n",
       "      <td>NaN</td>\n",
       "      <td>Caliber Home Loans, Inc.</td>\n",
       "      <td>FL</td>\n",
       "      <td>34744</td>\n",
       "      <td>NaN</td>\n",
       "      <td>NaN</td>\n",
       "      <td>Fax</td>\n",
       "      <td>6/12/2017</td>\n",
       "      <td>Closed with explanation</td>\n",
       "      <td>NaN</td>\n",
       "      <td>Yes</td>\n",
       "    </tr>\n",
       "    <tr>\n",
       "      <th>1</th>\n",
       "      <td>1</td>\n",
       "      <td>3314889</td>\n",
       "      <td>7/22/2019</td>\n",
       "      <td>Credit card or prepaid card</td>\n",
       "      <td>General-purpose credit card or charge card</td>\n",
       "      <td>Problem with a purchase shown on your statement</td>\n",
       "      <td>Credit card company isn't resolving a dispute ...</td>\n",
       "      <td>On XX/XX/2019 all of my credit and debit cards...</td>\n",
       "      <td>Company has responded to the consumer and the ...</td>\n",
       "      <td>WELLS FARGO &amp; COMPANY</td>\n",
       "      <td>CA</td>\n",
       "      <td>900XX</td>\n",
       "      <td>NaN</td>\n",
       "      <td>Consent provided</td>\n",
       "      <td>Web</td>\n",
       "      <td>7/22/2019</td>\n",
       "      <td>Closed with explanation</td>\n",
       "      <td>NaN</td>\n",
       "      <td>Yes</td>\n",
       "    </tr>\n",
       "    <tr>\n",
       "      <th>2</th>\n",
       "      <td>2</td>\n",
       "      <td>3612478</td>\n",
       "      <td>4/18/2020</td>\n",
       "      <td>Credit reporting, credit repair services, or o...</td>\n",
       "      <td>Credit reporting</td>\n",
       "      <td>Incorrect information on your report</td>\n",
       "      <td>Information belongs to someone else</td>\n",
       "      <td>I was made aware of a negative account and inq...</td>\n",
       "      <td>NaN</td>\n",
       "      <td>EQUIFAX, INC.</td>\n",
       "      <td>CA</td>\n",
       "      <td>945XX</td>\n",
       "      <td>NaN</td>\n",
       "      <td>Consent provided</td>\n",
       "      <td>Web</td>\n",
       "      <td>4/18/2020</td>\n",
       "      <td>Closed with explanation</td>\n",
       "      <td>NaN</td>\n",
       "      <td>Yes</td>\n",
       "    </tr>\n",
       "    <tr>\n",
       "      <th>3</th>\n",
       "      <td>3</td>\n",
       "      <td>2069704</td>\n",
       "      <td>8/18/2016</td>\n",
       "      <td>Bank account or service</td>\n",
       "      <td>Checking account</td>\n",
       "      <td>Deposits and withdrawals</td>\n",
       "      <td>NaN</td>\n",
       "      <td>NaN</td>\n",
       "      <td>Company has responded to the consumer and the ...</td>\n",
       "      <td>BANK OF AMERICA, NATIONAL ASSOCIATION</td>\n",
       "      <td>TX</td>\n",
       "      <td>77014</td>\n",
       "      <td>NaN</td>\n",
       "      <td>NaN</td>\n",
       "      <td>Phone</td>\n",
       "      <td>8/19/2016</td>\n",
       "      <td>Closed with monetary relief</td>\n",
       "      <td>No</td>\n",
       "      <td>Yes</td>\n",
       "    </tr>\n",
       "    <tr>\n",
       "      <th>4</th>\n",
       "      <td>4</td>\n",
       "      <td>3354927</td>\n",
       "      <td>8/27/2019</td>\n",
       "      <td>Debt collection</td>\n",
       "      <td>Auto debt</td>\n",
       "      <td>Took or threatened to take negative or legal a...</td>\n",
       "      <td>Threatened or suggested your credit would be d...</td>\n",
       "      <td>NaN</td>\n",
       "      <td>NaN</td>\n",
       "      <td>Bridgecrest Acceptance Corporation</td>\n",
       "      <td>PA</td>\n",
       "      <td>19143</td>\n",
       "      <td>Servicemember</td>\n",
       "      <td>Consent not provided</td>\n",
       "      <td>Web</td>\n",
       "      <td>8/27/2019</td>\n",
       "      <td>Closed with explanation</td>\n",
       "      <td>NaN</td>\n",
       "      <td>Yes</td>\n",
       "    </tr>\n",
       "    <tr>\n",
       "      <th>...</th>\n",
       "      <td>...</td>\n",
       "      <td>...</td>\n",
       "      <td>...</td>\n",
       "      <td>...</td>\n",
       "      <td>...</td>\n",
       "      <td>...</td>\n",
       "      <td>...</td>\n",
       "      <td>...</td>\n",
       "      <td>...</td>\n",
       "      <td>...</td>\n",
       "      <td>...</td>\n",
       "      <td>...</td>\n",
       "      <td>...</td>\n",
       "      <td>...</td>\n",
       "      <td>...</td>\n",
       "      <td>...</td>\n",
       "      <td>...</td>\n",
       "      <td>...</td>\n",
       "      <td>...</td>\n",
       "    </tr>\n",
       "    <tr>\n",
       "      <th>1048570</th>\n",
       "      <td>1048570</td>\n",
       "      <td>3796247</td>\n",
       "      <td>8/13/2020</td>\n",
       "      <td>Mortgage</td>\n",
       "      <td>Conventional home mortgage</td>\n",
       "      <td>Trouble during payment process</td>\n",
       "      <td>NaN</td>\n",
       "      <td>NaN</td>\n",
       "      <td>Company believes complaint is the result of an...</td>\n",
       "      <td>UNITED SERVICES AUTOMOBILE ASSOCIATION</td>\n",
       "      <td>GA</td>\n",
       "      <td>30116</td>\n",
       "      <td>NaN</td>\n",
       "      <td>NaN</td>\n",
       "      <td>Referral</td>\n",
       "      <td>8/14/2020</td>\n",
       "      <td>Closed with explanation</td>\n",
       "      <td>NaN</td>\n",
       "      <td>Yes</td>\n",
       "    </tr>\n",
       "    <tr>\n",
       "      <th>1048571</th>\n",
       "      <td>1048571</td>\n",
       "      <td>3933702</td>\n",
       "      <td>11/3/2020</td>\n",
       "      <td>Credit reporting, credit repair services, or o...</td>\n",
       "      <td>Credit reporting</td>\n",
       "      <td>Incorrect information on your report</td>\n",
       "      <td>Information belongs to someone else</td>\n",
       "      <td>NaN</td>\n",
       "      <td>Company has responded to the consumer and the ...</td>\n",
       "      <td>TRANSUNION INTERMEDIATE HOLDINGS, INC.</td>\n",
       "      <td>NY</td>\n",
       "      <td>104XX</td>\n",
       "      <td>NaN</td>\n",
       "      <td>Other</td>\n",
       "      <td>Web</td>\n",
       "      <td>11/3/2020</td>\n",
       "      <td>Closed with explanation</td>\n",
       "      <td>NaN</td>\n",
       "      <td>Yes</td>\n",
       "    </tr>\n",
       "    <tr>\n",
       "      <th>1048572</th>\n",
       "      <td>1048572</td>\n",
       "      <td>3361930</td>\n",
       "      <td>8/30/2019</td>\n",
       "      <td>Mortgage</td>\n",
       "      <td>Conventional home mortgage</td>\n",
       "      <td>Applying for a mortgage or refinancing an exis...</td>\n",
       "      <td>NaN</td>\n",
       "      <td>NaN</td>\n",
       "      <td>Company has responded to the consumer and the ...</td>\n",
       "      <td>BANK OF AMERICA, NATIONAL ASSOCIATION</td>\n",
       "      <td>CA</td>\n",
       "      <td>95117</td>\n",
       "      <td>NaN</td>\n",
       "      <td>NaN</td>\n",
       "      <td>Referral</td>\n",
       "      <td>9/3/2019</td>\n",
       "      <td>Closed with explanation</td>\n",
       "      <td>NaN</td>\n",
       "      <td>Yes</td>\n",
       "    </tr>\n",
       "    <tr>\n",
       "      <th>1048573</th>\n",
       "      <td>1048573</td>\n",
       "      <td>4003293</td>\n",
       "      <td>12/10/2020</td>\n",
       "      <td>Credit reporting, credit repair services, or o...</td>\n",
       "      <td>Credit reporting</td>\n",
       "      <td>Incorrect information on your report</td>\n",
       "      <td>Information belongs to someone else</td>\n",
       "      <td>I spoke with XXXX at Experian on XX/XX/XXXX ab...</td>\n",
       "      <td>Company has responded to the consumer and the ...</td>\n",
       "      <td>Experian Information Solutions Inc.</td>\n",
       "      <td>AZ</td>\n",
       "      <td>853XX</td>\n",
       "      <td>NaN</td>\n",
       "      <td>Consent provided</td>\n",
       "      <td>Web</td>\n",
       "      <td>12/10/2020</td>\n",
       "      <td>Closed with explanation</td>\n",
       "      <td>NaN</td>\n",
       "      <td>Yes</td>\n",
       "    </tr>\n",
       "    <tr>\n",
       "      <th>1048574</th>\n",
       "      <td>1048574</td>\n",
       "      <td>3625596</td>\n",
       "      <td>4/27/2020</td>\n",
       "      <td>Credit reporting, credit repair services, or o...</td>\n",
       "      <td>Credit reporting</td>\n",
       "      <td>Incorrect information on your report</td>\n",
       "      <td>Information belongs to someone else</td>\n",
       "      <td>NaN</td>\n",
       "      <td>NaN</td>\n",
       "      <td>EQUIFAX, INC.</td>\n",
       "      <td>CA</td>\n",
       "      <td>91722</td>\n",
       "      <td>NaN</td>\n",
       "      <td>Consent not provided</td>\n",
       "      <td>Web</td>\n",
       "      <td>4/27/2020</td>\n",
       "      <td>Closed with explanation</td>\n",
       "      <td>NaN</td>\n",
       "      <td>Yes</td>\n",
       "    </tr>\n",
       "  </tbody>\n",
       "</table>\n",
       "<p>1048575 rows × 19 columns</p>\n",
       "</div>"
      ],
      "text/plain": [
       "         Unnamed: 0  Complaint_ID Date received  \\\n",
       "0                 0       2535701      6/8/2017   \n",
       "1                 1       3314889     7/22/2019   \n",
       "2                 2       3612478     4/18/2020   \n",
       "3                 3       2069704     8/18/2016   \n",
       "4                 4       3354927     8/27/2019   \n",
       "...             ...           ...           ...   \n",
       "1048570     1048570       3796247     8/13/2020   \n",
       "1048571     1048571       3933702     11/3/2020   \n",
       "1048572     1048572       3361930     8/30/2019   \n",
       "1048573     1048573       4003293    12/10/2020   \n",
       "1048574     1048574       3625596     4/27/2020   \n",
       "\n",
       "                                                   Product  \\\n",
       "0                                                 Mortgage   \n",
       "1                              Credit card or prepaid card   \n",
       "2        Credit reporting, credit repair services, or o...   \n",
       "3                                  Bank account or service   \n",
       "4                                          Debt collection   \n",
       "...                                                    ...   \n",
       "1048570                                           Mortgage   \n",
       "1048571  Credit reporting, credit repair services, or o...   \n",
       "1048572                                           Mortgage   \n",
       "1048573  Credit reporting, credit repair services, or o...   \n",
       "1048574  Credit reporting, credit repair services, or o...   \n",
       "\n",
       "                                        Sub-product  \\\n",
       "0                        Conventional home mortgage   \n",
       "1        General-purpose credit card or charge card   \n",
       "2                                  Credit reporting   \n",
       "3                                  Checking account   \n",
       "4                                         Auto debt   \n",
       "...                                             ...   \n",
       "1048570                  Conventional home mortgage   \n",
       "1048571                            Credit reporting   \n",
       "1048572                  Conventional home mortgage   \n",
       "1048573                            Credit reporting   \n",
       "1048574                            Credit reporting   \n",
       "\n",
       "                                                     Issue  \\\n",
       "0                               Struggling to pay mortgage   \n",
       "1          Problem with a purchase shown on your statement   \n",
       "2                     Incorrect information on your report   \n",
       "3                                 Deposits and withdrawals   \n",
       "4        Took or threatened to take negative or legal a...   \n",
       "...                                                    ...   \n",
       "1048570                     Trouble during payment process   \n",
       "1048571               Incorrect information on your report   \n",
       "1048572  Applying for a mortgage or refinancing an exis...   \n",
       "1048573               Incorrect information on your report   \n",
       "1048574               Incorrect information on your report   \n",
       "\n",
       "                                                 Sub-issue  \\\n",
       "0                                                      NaN   \n",
       "1        Credit card company isn't resolving a dispute ...   \n",
       "2                      Information belongs to someone else   \n",
       "3                                                      NaN   \n",
       "4        Threatened or suggested your credit would be d...   \n",
       "...                                                    ...   \n",
       "1048570                                                NaN   \n",
       "1048571                Information belongs to someone else   \n",
       "1048572                                                NaN   \n",
       "1048573                Information belongs to someone else   \n",
       "1048574                Information belongs to someone else   \n",
       "\n",
       "                              Consumer complaint narrative  \\\n",
       "0                                                      NaN   \n",
       "1        On XX/XX/2019 all of my credit and debit cards...   \n",
       "2        I was made aware of a negative account and inq...   \n",
       "3                                                      NaN   \n",
       "4                                                      NaN   \n",
       "...                                                    ...   \n",
       "1048570                                                NaN   \n",
       "1048571                                                NaN   \n",
       "1048572                                                NaN   \n",
       "1048573  I spoke with XXXX at Experian on XX/XX/XXXX ab...   \n",
       "1048574                                                NaN   \n",
       "\n",
       "                                   Company public response  \\\n",
       "0                                                      NaN   \n",
       "1        Company has responded to the consumer and the ...   \n",
       "2                                                      NaN   \n",
       "3        Company has responded to the consumer and the ...   \n",
       "4                                                      NaN   \n",
       "...                                                    ...   \n",
       "1048570  Company believes complaint is the result of an...   \n",
       "1048571  Company has responded to the consumer and the ...   \n",
       "1048572  Company has responded to the consumer and the ...   \n",
       "1048573  Company has responded to the consumer and the ...   \n",
       "1048574                                                NaN   \n",
       "\n",
       "                                        Company State ZIP code           Tags  \\\n",
       "0                      Caliber Home Loans, Inc.    FL    34744            NaN   \n",
       "1                         WELLS FARGO & COMPANY    CA    900XX            NaN   \n",
       "2                                 EQUIFAX, INC.    CA    945XX            NaN   \n",
       "3         BANK OF AMERICA, NATIONAL ASSOCIATION    TX    77014            NaN   \n",
       "4            Bridgecrest Acceptance Corporation    PA    19143  Servicemember   \n",
       "...                                         ...   ...      ...            ...   \n",
       "1048570  UNITED SERVICES AUTOMOBILE ASSOCIATION    GA    30116            NaN   \n",
       "1048571  TRANSUNION INTERMEDIATE HOLDINGS, INC.    NY    104XX            NaN   \n",
       "1048572   BANK OF AMERICA, NATIONAL ASSOCIATION    CA    95117            NaN   \n",
       "1048573     Experian Information Solutions Inc.    AZ    853XX            NaN   \n",
       "1048574                           EQUIFAX, INC.    CA    91722            NaN   \n",
       "\n",
       "        Consumer consent provided? Submitted via Date sent to company  \\\n",
       "0                              NaN           Fax            6/12/2017   \n",
       "1                 Consent provided           Web            7/22/2019   \n",
       "2                 Consent provided           Web            4/18/2020   \n",
       "3                              NaN         Phone            8/19/2016   \n",
       "4             Consent not provided           Web            8/27/2019   \n",
       "...                            ...           ...                  ...   \n",
       "1048570                        NaN      Referral            8/14/2020   \n",
       "1048571                      Other           Web            11/3/2020   \n",
       "1048572                        NaN      Referral             9/3/2019   \n",
       "1048573           Consent provided           Web           12/10/2020   \n",
       "1048574       Consent not provided           Web            4/27/2020   \n",
       "\n",
       "        Company response to consumer Consumer disputed? Timely response?  \n",
       "0            Closed with explanation                NaN              Yes  \n",
       "1            Closed with explanation                NaN              Yes  \n",
       "2            Closed with explanation                NaN              Yes  \n",
       "3        Closed with monetary relief                 No              Yes  \n",
       "4            Closed with explanation                NaN              Yes  \n",
       "...                              ...                ...              ...  \n",
       "1048570      Closed with explanation                NaN              Yes  \n",
       "1048571      Closed with explanation                NaN              Yes  \n",
       "1048572      Closed with explanation                NaN              Yes  \n",
       "1048573      Closed with explanation                NaN              Yes  \n",
       "1048574      Closed with explanation                NaN              Yes  \n",
       "\n",
       "[1048575 rows x 19 columns]"
      ]
     },
     "execution_count": 244,
     "metadata": {},
     "output_type": "execute_result"
    }
   ],
   "source": [
    "data=pd.read_csv(\"C:/Users/jayjr/Downloads/train.csv\")\n",
    "data"
   ]
  },
  {
   "cell_type": "code",
   "execution_count": null,
   "metadata": {},
   "outputs": [],
   "source": []
  },
  {
   "cell_type": "code",
   "execution_count": 245,
   "metadata": {},
   "outputs": [],
   "source": [
    "#data.drop(columns=['Unnamed: 0','Consumer complaint narrative','Tags','Consumer disputed?'],inplace=True)"
   ]
  },
  {
   "cell_type": "code",
   "execution_count": 246,
   "metadata": {
    "scrolled": true
   },
   "outputs": [
    {
     "name": "stdout",
     "output_type": "stream",
     "text": [
      "<class 'pandas.core.frame.DataFrame'>\n",
      "RangeIndex: 1048575 entries, 0 to 1048574\n",
      "Data columns (total 19 columns):\n",
      " #   Column                        Non-Null Count    Dtype \n",
      "---  ------                        --------------    ----- \n",
      " 0   Unnamed: 0                    1048575 non-null  int64 \n",
      " 1   Complaint_ID                  1048575 non-null  int64 \n",
      " 2   Date received                 1048575 non-null  object\n",
      " 3   Product                       1048575 non-null  object\n",
      " 4   Sub-product                   947674 non-null   object\n",
      " 5   Issue                         1048575 non-null  object\n",
      " 6   Sub-issue                     766056 non-null   object\n",
      " 7   Consumer complaint narrative  310809 non-null   object\n",
      " 8   Company public response       446648 non-null   object\n",
      " 9   Company                       1048575 non-null  object\n",
      " 10  State                         1027557 non-null  object\n",
      " 11  ZIP code                      954841 non-null   object\n",
      " 12  Tags                          129277 non-null   object\n",
      " 13  Consumer consent provided?    680949 non-null   object\n",
      " 14  Submitted via                 1048575 non-null  object\n",
      " 15  Date sent to company          1048575 non-null  object\n",
      " 16  Company response to consumer  1048574 non-null  object\n",
      " 17  Consumer disputed?            329143 non-null   object\n",
      " 18  Timely response?              1048575 non-null  object\n",
      "dtypes: int64(2), object(17)\n",
      "memory usage: 152.0+ MB\n"
     ]
    }
   ],
   "source": [
    "data.info()"
   ]
  },
  {
   "cell_type": "code",
   "execution_count": 247,
   "metadata": {},
   "outputs": [
    {
     "data": {
      "text/plain": [
       "array(['Mortgage', 'Credit card or prepaid card',\n",
       "       'Credit reporting, credit repair services, or other personal consumer reports',\n",
       "       'Bank account or service', 'Debt collection', 'Credit card',\n",
       "       'Student loan', 'Credit reporting',\n",
       "       'Money transfer, virtual currency, or money service',\n",
       "       'Money transfers', 'Checking or savings account', 'Consumer Loan',\n",
       "       'Vehicle loan or lease',\n",
       "       'Payday loan, title loan, or personal loan', 'Payday loan',\n",
       "       'Prepaid card', 'Other financial service', 'Virtual currency'],\n",
       "      dtype=object)"
      ]
     },
     "execution_count": 247,
     "metadata": {},
     "output_type": "execute_result"
    }
   ],
   "source": [
    "data['Product'].unique()"
   ]
  },
  {
   "cell_type": "code",
   "execution_count": 248,
   "metadata": {
    "scrolled": true
   },
   "outputs": [
    {
     "data": {
      "text/plain": [
       "array(['Conventional home mortgage',\n",
       "       'General-purpose credit card or charge card', 'Credit reporting',\n",
       "       'Checking account', 'Auto debt',\n",
       "       'Conventional adjustable mortgage (ARM)', nan, 'Other debt',\n",
       "       'Other personal consumer report', 'Credit card debt',\n",
       "       'Private student loan', 'Other mortgage', 'FHA mortgage',\n",
       "       'Other bank product/service', 'Medical debt', 'I do not know',\n",
       "       'Mobile or digital wallet', 'International money transfer',\n",
       "       'Mortgage', 'Credit card', 'Other type of mortgage', 'Auto',\n",
       "       'Federal student loan servicing', 'Installment loan',\n",
       "       'Conventional fixed mortgage',\n",
       "       'Other (i.e. phone, health club, etc.)',\n",
       "       'Other banking product or service', 'Non-federal student loan',\n",
       "       'Savings account', 'Federal student loan debt',\n",
       "       'Home equity loan or line of credit (HELOC)', 'Loan',\n",
       "       '(CD) Certificate of deposit', 'Title loan',\n",
       "       'Private student loan debt', 'Payday loan', 'Medical',\n",
       "       'Debt settlement', 'Personal line of credit', 'Vehicle lease',\n",
       "       'Government benefit card', 'Store credit card', 'Vehicle loan',\n",
       "       'Payday loan debt', 'VA mortgage', 'Foreign currency exchange',\n",
       "       'Home equity loan or line of credit',\n",
       "       'Domestic (US) money transfer', 'Lease', 'Mortgage debt',\n",
       "       'CD (Certificate of Deposit)', 'Federal student loan',\n",
       "       'Virtual currency', 'General-purpose prepaid card',\n",
       "       'Credit repair services', 'Second mortgage', 'Reverse mortgage',\n",
       "       'Money order', 'Cashing a check without an account',\n",
       "       'Student prepaid card', 'Other special purpose card',\n",
       "       \"Traveler's check or cashier's check\", 'General purpose card',\n",
       "       'Refund anticipation check', 'Payroll card',\n",
       "       'Government benefit payment card', 'Check cashing', 'Gift card',\n",
       "       'Mobile wallet', 'Gift or merchant card', 'Check cashing service',\n",
       "       'ID prepaid card', 'Traveler’s/Cashier’s checks', 'Pawn loan',\n",
       "       'Credit repair', 'Transit card',\n",
       "       'Electronic Benefit Transfer / EBT card'], dtype=object)"
      ]
     },
     "execution_count": 248,
     "metadata": {},
     "output_type": "execute_result"
    }
   ],
   "source": [
    "data['Sub-product'].unique()"
   ]
  },
  {
   "cell_type": "code",
   "execution_count": 249,
   "metadata": {},
   "outputs": [
    {
     "data": {
      "text/plain": [
       "array(['Struggling to pay mortgage',\n",
       "       'Problem with a purchase shown on your statement',\n",
       "       'Incorrect information on your report', 'Deposits and withdrawals',\n",
       "       'Took or threatened to take negative or legal action',\n",
       "       'Loan modification,collection,foreclosure',\n",
       "       \"Problem with a credit reporting company's investigation into an existing problem\",\n",
       "       'Customer service / Customer relations',\n",
       "       \"Problem with a company's investigation into an existing issue\",\n",
       "       'False statements or representation',\n",
       "       'Dealing with your lender or servicer',\n",
       "       'Incorrect information on credit report',\n",
       "       'Loan servicing, payments, escrow account',\n",
       "       'Attempts to collect debt not owed',\n",
       "       'Problems caused by my funds being low',\n",
       "       'Trouble during payment process',\n",
       "       'Account opening, closing, or management', 'Closing on a mortgage',\n",
       "       'Fraud or scam',\n",
       "       'Threatened to contact someone or share information improperly',\n",
       "       'Other transaction issues', 'Advertising and marketing',\n",
       "       'Getting a credit card', 'Disclosure verification of debt',\n",
       "       'Problem caused by your funds being low', 'Communication tactics',\n",
       "       'Credit line increase/decrease', 'Credit reporting',\n",
       "       'Other features, terms, or problems',\n",
       "       'Improper use of your report', 'Improper use of my credit report',\n",
       "       'Managing the loan or lease',\n",
       "       'Problem with a lender or other company charging your account',\n",
       "       \"Cont'd attempts collect debt not owed\",\n",
       "       \"Credit reporting company's investigation\",\n",
       "       'Settlement process and costs', 'Managing an account',\n",
       "       'Applying for a mortgage or refinancing an existing mortgage',\n",
       "       'Struggling to repay your loan',\n",
       "       'Dealing with my lender or servicer', 'Closing an account',\n",
       "       'Written notification about debt', 'Closing/Cancelling account',\n",
       "       'Struggling to pay your loan',\n",
       "       'Problems at the end of the loan or lease', 'Opening an account',\n",
       "       'Other transaction problem', 'Billing disputes',\n",
       "       'Problem with fraud alerts or security freezes',\n",
       "       \"Can't contact lender or servicer\", 'Other',\n",
       "       'Credit card protection / Debt protection',\n",
       "       'Taking/threatening an illegal action', \"Can't repay my loan\",\n",
       "       'Credit monitoring or identity theft protection services',\n",
       "       'APR or interest rate', \"Charged fees or interest I didn't expect\",\n",
       "       'Payoff process', 'Problem when making payments',\n",
       "       'Identity theft / Fraud / Embezzlement',\n",
       "       'Unable to get your credit report or credit score',\n",
       "       'Vehicle was repossessed or sold the vehicle', 'Billing statement',\n",
       "       'Problem with the payoff process at the end of the loan',\n",
       "       'Identity theft protection or other monitoring services',\n",
       "       'Problem adding money',\n",
       "       'Problem getting a card or closing an account',\n",
       "       'Managing the line of credit', 'Fees or interest',\n",
       "       'Unable to get credit report/credit score', 'Closing your account',\n",
       "       'Rewards', 'Delinquent account', 'Trouble using the card',\n",
       "       'Improper contact or sharing of info', 'Late fee',\n",
       "       'Problem with customer service', 'Shopping for a line of credit',\n",
       "       'Money was not available when promised',\n",
       "       'Problem with a purchase or transfer',\n",
       "       \"Charged fees or interest you didn't expect\", 'Bankruptcy',\n",
       "       'Getting a loan or lease',\n",
       "       'Managing, opening, or closing your mobile wallet account',\n",
       "       'Taking out the loan or lease', 'Shopping for a loan or lease',\n",
       "       'Problems when you are unable to pay', 'Getting the loan',\n",
       "       'Account terms and changes', 'Credit determination',\n",
       "       'Making/receiving payments, sending money',\n",
       "       'Application, originator, mortgage broker', 'Transaction issue',\n",
       "       'Repaying your loan', 'Using a debit or ATM card',\n",
       "       'Unexpected or other fees', 'Wrong amount charged or received',\n",
       "       'Credit decision / Underwriting', 'Struggling to pay your bill',\n",
       "       'Trouble using your card', 'Other service problem',\n",
       "       'Advertising and marketing, including promotional offers',\n",
       "       'Unsolicited issuance of credit card',\n",
       "       'Credit monitoring or identity protection',\n",
       "       'Problem with overdraft', 'Collection debt dispute',\n",
       "       'Problem with credit report or credit score',\n",
       "       \"Can't contact lender\", 'Other fee',\n",
       "       'Unauthorized transactions or other transaction problem',\n",
       "       'Overdraft, savings, or rewards features',\n",
       "       'Managing, opening, or closing account',\n",
       "       \"Can't stop charges to bank account\",\n",
       "       'Problem with additional add-on products or services', 'Privacy',\n",
       "       'Payment to acct not credited', 'Balance transfer',\n",
       "       'Lost or stolen check', 'Cash advance', 'Getting a loan',\n",
       "       \"Was approved for a loan, but didn't receive the money\",\n",
       "       \"Received a loan you didn't apply for\", 'Getting a line of credit',\n",
       "       'Fees', \"Received a loan I didn't apply for\", 'Adding money',\n",
       "       \"Loan payment wasn't credited to your account\",\n",
       "       'Unauthorized transactions/trans. issues',\n",
       "       'Confusing or missing disclosures', 'Balance transfer fee',\n",
       "       \"Can't stop withdrawals from your bank account\",\n",
       "       'Incorrect/missing disclosures or info',\n",
       "       'Customer service/Customer relations',\n",
       "       'Forbearance / Workout plans', 'Collection practices',\n",
       "       'Unexpected/Other fees', 'Excessive fees', 'Advertising',\n",
       "       'Other service issues', 'Application processing delay',\n",
       "       'Applied for loan/did not receive money',\n",
       "       \"Was approved for a loan, but didn't receive money\",\n",
       "       'Overlimit fee', 'Arbitration', 'Cash advance fee',\n",
       "       'Sale of account', 'Charged bank acct wrong day or amt',\n",
       "       'Money was taken from your bank account on the wrong day or for the wrong amount',\n",
       "       'Convenience checks', 'Lost or stolen money order',\n",
       "       'Confusing or misleading advertising or marketing',\n",
       "       'Overdraft, savings or rewards features', 'Credit limit changed',\n",
       "       'Disclosures', 'Problem with cash advance',\n",
       "       'Vehicle was damaged or destroyed the vehicle',\n",
       "       'Advertising, marketing or disclosures', 'Incorrect exchange rate',\n",
       "       'Lender repossessed or sold the vehicle', 'Property was sold',\n",
       "       'Property was damaged or destroyed property',\n",
       "       'Problem with an overdraft', 'Lender damaged or destroyed vehicle',\n",
       "       'Lender sold the property', 'Lender damaged or destroyed property'],\n",
       "      dtype=object)"
      ]
     },
     "execution_count": 249,
     "metadata": {},
     "output_type": "execute_result"
    }
   ],
   "source": [
    "data['Issue'].unique()"
   ]
  },
  {
   "cell_type": "code",
   "execution_count": 250,
   "metadata": {
    "scrolled": true
   },
   "outputs": [
    {
     "data": {
      "text/plain": [
       "array([nan,\n",
       "       'Company has responded to the consumer and the CFPB and chooses not to provide a public response',\n",
       "       'Company chooses not to provide a public response',\n",
       "       'Company believes complaint caused principally by actions of third party outside the control or direction of the company',\n",
       "       \"Company can't verify or dispute the facts in the complaint\",\n",
       "       'Company believes the complaint is the result of a misunderstanding',\n",
       "       'Company believes it acted appropriately as authorized by contract or law',\n",
       "       \"Company believes the complaint provided an opportunity to answer consumer's questions\",\n",
       "       'Company disputes the facts presented in the complaint',\n",
       "       'Company believes complaint represents an opportunity for improvement to better serve consumers',\n",
       "       'Company believes complaint is the result of an isolated error',\n",
       "       'Company believes complaint relates to a discontinued policy or procedure'],\n",
       "      dtype=object)"
      ]
     },
     "execution_count": 250,
     "metadata": {},
     "output_type": "execute_result"
    }
   ],
   "source": [
    "data['Company public response'].unique()"
   ]
  },
  {
   "cell_type": "code",
   "execution_count": 251,
   "metadata": {},
   "outputs": [
    {
     "data": {
      "text/plain": [
       "4826"
      ]
     },
     "execution_count": 251,
     "metadata": {},
     "output_type": "execute_result"
    }
   ],
   "source": [
    "len(data['Company'].unique())"
   ]
  },
  {
   "cell_type": "code",
   "execution_count": 252,
   "metadata": {},
   "outputs": [
    {
     "data": {
      "text/plain": [
       "20798"
      ]
     },
     "execution_count": 252,
     "metadata": {},
     "output_type": "execute_result"
    }
   ],
   "source": [
    "len(data['ZIP code'].unique())"
   ]
  },
  {
   "cell_type": "code",
   "execution_count": 253,
   "metadata": {},
   "outputs": [
    {
     "data": {
      "text/plain": [
       "array([nan, 'Consent provided', 'Consent not provided', 'Other',\n",
       "       'Consent withdrawn'], dtype=object)"
      ]
     },
     "execution_count": 253,
     "metadata": {},
     "output_type": "execute_result"
    }
   ],
   "source": [
    "data['Consumer consent provided?'].unique()"
   ]
  },
  {
   "cell_type": "code",
   "execution_count": 254,
   "metadata": {},
   "outputs": [
    {
     "data": {
      "text/plain": [
       "array(['Fax', 'Web', 'Phone', 'Postal mail', 'Referral', 'Email'],\n",
       "      dtype=object)"
      ]
     },
     "execution_count": 254,
     "metadata": {},
     "output_type": "execute_result"
    }
   ],
   "source": [
    "data['Submitted via'].unique()"
   ]
  },
  {
   "cell_type": "code",
   "execution_count": 255,
   "metadata": {},
   "outputs": [
    {
     "data": {
      "text/plain": [
       "3351"
      ]
     },
     "execution_count": 255,
     "metadata": {},
     "output_type": "execute_result"
    }
   ],
   "source": [
    "len(data['Date sent to company'].unique())"
   ]
  },
  {
   "cell_type": "code",
   "execution_count": 256,
   "metadata": {},
   "outputs": [
    {
     "data": {
      "text/plain": [
       "8"
      ]
     },
     "execution_count": 256,
     "metadata": {},
     "output_type": "execute_result"
    }
   ],
   "source": [
    "len(data['Company response to consumer'].unique())"
   ]
  },
  {
   "cell_type": "code",
   "execution_count": 257,
   "metadata": {},
   "outputs": [],
   "source": [
    "encode=LabelEncoder()"
   ]
  },
  {
   "cell_type": "code",
   "execution_count": 258,
   "metadata": {
    "scrolled": true
   },
   "outputs": [],
   "source": [
    "t=encode.fit_transform(data['Date received'])"
   ]
  },
  {
   "cell_type": "code",
   "execution_count": 259,
   "metadata": {},
   "outputs": [],
   "source": [
    "data.drop(columns='Date received',inplace=True)"
   ]
  },
  {
   "cell_type": "code",
   "execution_count": 260,
   "metadata": {},
   "outputs": [],
   "source": [
    "data['Date received']=t"
   ]
  },
  {
   "cell_type": "code",
   "execution_count": 261,
   "metadata": {},
   "outputs": [],
   "source": [
    "t=encode.fit_transform(data['Product'])\n",
    "data.drop(columns='Product',inplace=True)\n",
    "data['Product']=t"
   ]
  },
  {
   "cell_type": "code",
   "execution_count": 262,
   "metadata": {},
   "outputs": [],
   "source": [
    "t=encode.fit_transform(data['Issue'])\n",
    "data.drop(columns='Issue',inplace=True)\n",
    "data['Issue']=t"
   ]
  },
  {
   "cell_type": "code",
   "execution_count": 263,
   "metadata": {},
   "outputs": [
    {
     "data": {
      "text/html": [
       "<div>\n",
       "<style scoped>\n",
       "    .dataframe tbody tr th:only-of-type {\n",
       "        vertical-align: middle;\n",
       "    }\n",
       "\n",
       "    .dataframe tbody tr th {\n",
       "        vertical-align: top;\n",
       "    }\n",
       "\n",
       "    .dataframe thead th {\n",
       "        text-align: right;\n",
       "    }\n",
       "</style>\n",
       "<table border=\"1\" class=\"dataframe\">\n",
       "  <thead>\n",
       "    <tr style=\"text-align: right;\">\n",
       "      <th></th>\n",
       "      <th>Unnamed: 0</th>\n",
       "      <th>Complaint_ID</th>\n",
       "      <th>Sub-product</th>\n",
       "      <th>Sub-issue</th>\n",
       "      <th>Consumer complaint narrative</th>\n",
       "      <th>Company public response</th>\n",
       "      <th>Company</th>\n",
       "      <th>State</th>\n",
       "      <th>ZIP code</th>\n",
       "      <th>Tags</th>\n",
       "      <th>Consumer consent provided?</th>\n",
       "      <th>Submitted via</th>\n",
       "      <th>Date sent to company</th>\n",
       "      <th>Company response to consumer</th>\n",
       "      <th>Consumer disputed?</th>\n",
       "      <th>Timely response?</th>\n",
       "      <th>Date received</th>\n",
       "      <th>Product</th>\n",
       "      <th>Issue</th>\n",
       "    </tr>\n",
       "  </thead>\n",
       "  <tbody>\n",
       "    <tr>\n",
       "      <th>0</th>\n",
       "      <td>0</td>\n",
       "      <td>2535701</td>\n",
       "      <td>Conventional home mortgage</td>\n",
       "      <td>NaN</td>\n",
       "      <td>NaN</td>\n",
       "      <td>NaN</td>\n",
       "      <td>Caliber Home Loans, Inc.</td>\n",
       "      <td>FL</td>\n",
       "      <td>34744</td>\n",
       "      <td>NaN</td>\n",
       "      <td>NaN</td>\n",
       "      <td>Fax</td>\n",
       "      <td>6/12/2017</td>\n",
       "      <td>Closed with explanation</td>\n",
       "      <td>NaN</td>\n",
       "      <td>Yes</td>\n",
       "      <td>2569</td>\n",
       "      <td>10</td>\n",
       "      <td>139</td>\n",
       "    </tr>\n",
       "    <tr>\n",
       "      <th>1</th>\n",
       "      <td>1</td>\n",
       "      <td>3314889</td>\n",
       "      <td>General-purpose credit card or charge card</td>\n",
       "      <td>Credit card company isn't resolving a dispute ...</td>\n",
       "      <td>On XX/XX/2019 all of my credit and debit cards...</td>\n",
       "      <td>Company has responded to the consumer and the ...</td>\n",
       "      <td>WELLS FARGO &amp; COMPANY</td>\n",
       "      <td>CA</td>\n",
       "      <td>900XX</td>\n",
       "      <td>NaN</td>\n",
       "      <td>Consent provided</td>\n",
       "      <td>Web</td>\n",
       "      <td>7/22/2019</td>\n",
       "      <td>Closed with explanation</td>\n",
       "      <td>NaN</td>\n",
       "      <td>Yes</td>\n",
       "      <td>2715</td>\n",
       "      <td>4</td>\n",
       "      <td>117</td>\n",
       "    </tr>\n",
       "    <tr>\n",
       "      <th>2</th>\n",
       "      <td>2</td>\n",
       "      <td>3612478</td>\n",
       "      <td>Credit reporting</td>\n",
       "      <td>Information belongs to someone else</td>\n",
       "      <td>I was made aware of a negative account and inq...</td>\n",
       "      <td>NaN</td>\n",
       "      <td>EQUIFAX, INC.</td>\n",
       "      <td>CA</td>\n",
       "      <td>945XX</td>\n",
       "      <td>NaN</td>\n",
       "      <td>Consent provided</td>\n",
       "      <td>Web</td>\n",
       "      <td>4/18/2020</td>\n",
       "      <td>Closed with explanation</td>\n",
       "      <td>NaN</td>\n",
       "      <td>Yes</td>\n",
       "      <td>1852</td>\n",
       "      <td>6</td>\n",
       "      <td>75</td>\n",
       "    </tr>\n",
       "    <tr>\n",
       "      <th>3</th>\n",
       "      <td>3</td>\n",
       "      <td>2069704</td>\n",
       "      <td>Checking account</td>\n",
       "      <td>NaN</td>\n",
       "      <td>NaN</td>\n",
       "      <td>Company has responded to the consumer and the ...</td>\n",
       "      <td>BANK OF AMERICA, NATIONAL ASSOCIATION</td>\n",
       "      <td>TX</td>\n",
       "      <td>77014</td>\n",
       "      <td>NaN</td>\n",
       "      <td>NaN</td>\n",
       "      <td>Phone</td>\n",
       "      <td>8/19/2016</td>\n",
       "      <td>Closed with monetary relief</td>\n",
       "      <td>No</td>\n",
       "      <td>Yes</td>\n",
       "      <td>2946</td>\n",
       "      <td>0</td>\n",
       "      <td>54</td>\n",
       "    </tr>\n",
       "    <tr>\n",
       "      <th>4</th>\n",
       "      <td>4</td>\n",
       "      <td>3354927</td>\n",
       "      <td>Auto debt</td>\n",
       "      <td>Threatened or suggested your credit would be d...</td>\n",
       "      <td>NaN</td>\n",
       "      <td>NaN</td>\n",
       "      <td>Bridgecrest Acceptance Corporation</td>\n",
       "      <td>PA</td>\n",
       "      <td>19143</td>\n",
       "      <td>Servicemember</td>\n",
       "      <td>Consent not provided</td>\n",
       "      <td>Web</td>\n",
       "      <td>8/27/2019</td>\n",
       "      <td>Closed with explanation</td>\n",
       "      <td>NaN</td>\n",
       "      <td>Yes</td>\n",
       "      <td>3039</td>\n",
       "      <td>7</td>\n",
       "      <td>146</td>\n",
       "    </tr>\n",
       "  </tbody>\n",
       "</table>\n",
       "</div>"
      ],
      "text/plain": [
       "   Unnamed: 0  Complaint_ID                                 Sub-product  \\\n",
       "0           0       2535701                  Conventional home mortgage   \n",
       "1           1       3314889  General-purpose credit card or charge card   \n",
       "2           2       3612478                            Credit reporting   \n",
       "3           3       2069704                            Checking account   \n",
       "4           4       3354927                                   Auto debt   \n",
       "\n",
       "                                           Sub-issue  \\\n",
       "0                                                NaN   \n",
       "1  Credit card company isn't resolving a dispute ...   \n",
       "2                Information belongs to someone else   \n",
       "3                                                NaN   \n",
       "4  Threatened or suggested your credit would be d...   \n",
       "\n",
       "                        Consumer complaint narrative  \\\n",
       "0                                                NaN   \n",
       "1  On XX/XX/2019 all of my credit and debit cards...   \n",
       "2  I was made aware of a negative account and inq...   \n",
       "3                                                NaN   \n",
       "4                                                NaN   \n",
       "\n",
       "                             Company public response  \\\n",
       "0                                                NaN   \n",
       "1  Company has responded to the consumer and the ...   \n",
       "2                                                NaN   \n",
       "3  Company has responded to the consumer and the ...   \n",
       "4                                                NaN   \n",
       "\n",
       "                                 Company State ZIP code           Tags  \\\n",
       "0               Caliber Home Loans, Inc.    FL    34744            NaN   \n",
       "1                  WELLS FARGO & COMPANY    CA    900XX            NaN   \n",
       "2                          EQUIFAX, INC.    CA    945XX            NaN   \n",
       "3  BANK OF AMERICA, NATIONAL ASSOCIATION    TX    77014            NaN   \n",
       "4     Bridgecrest Acceptance Corporation    PA    19143  Servicemember   \n",
       "\n",
       "  Consumer consent provided? Submitted via Date sent to company  \\\n",
       "0                        NaN           Fax            6/12/2017   \n",
       "1           Consent provided           Web            7/22/2019   \n",
       "2           Consent provided           Web            4/18/2020   \n",
       "3                        NaN         Phone            8/19/2016   \n",
       "4       Consent not provided           Web            8/27/2019   \n",
       "\n",
       "  Company response to consumer Consumer disputed? Timely response?  \\\n",
       "0      Closed with explanation                NaN              Yes   \n",
       "1      Closed with explanation                NaN              Yes   \n",
       "2      Closed with explanation                NaN              Yes   \n",
       "3  Closed with monetary relief                 No              Yes   \n",
       "4      Closed with explanation                NaN              Yes   \n",
       "\n",
       "   Date received  Product  Issue  \n",
       "0           2569       10    139  \n",
       "1           2715        4    117  \n",
       "2           1852        6     75  \n",
       "3           2946        0     54  \n",
       "4           3039        7    146  "
      ]
     },
     "execution_count": 263,
     "metadata": {},
     "output_type": "execute_result"
    }
   ],
   "source": [
    "data.head()"
   ]
  },
  {
   "cell_type": "code",
   "execution_count": 264,
   "metadata": {},
   "outputs": [],
   "source": [
    "t=encode.fit_transform(data['Submitted via'])\n",
    "data.drop(columns='Submitted via',inplace=True)\n",
    "data['Submitted via']=t"
   ]
  },
  {
   "cell_type": "code",
   "execution_count": 265,
   "metadata": {},
   "outputs": [],
   "source": [
    "t=encode.fit_transform(data['Date sent to company'])\n",
    "data.drop(columns='Date sent to company',inplace=True)\n",
    "data['Date sent to company']=t"
   ]
  },
  {
   "cell_type": "code",
   "execution_count": 266,
   "metadata": {},
   "outputs": [
    {
     "data": {
      "text/html": [
       "<div>\n",
       "<style scoped>\n",
       "    .dataframe tbody tr th:only-of-type {\n",
       "        vertical-align: middle;\n",
       "    }\n",
       "\n",
       "    .dataframe tbody tr th {\n",
       "        vertical-align: top;\n",
       "    }\n",
       "\n",
       "    .dataframe thead th {\n",
       "        text-align: right;\n",
       "    }\n",
       "</style>\n",
       "<table border=\"1\" class=\"dataframe\">\n",
       "  <thead>\n",
       "    <tr style=\"text-align: right;\">\n",
       "      <th></th>\n",
       "      <th>Unnamed: 0</th>\n",
       "      <th>Complaint_ID</th>\n",
       "      <th>Sub-product</th>\n",
       "      <th>Sub-issue</th>\n",
       "      <th>Consumer complaint narrative</th>\n",
       "      <th>Company public response</th>\n",
       "      <th>Company</th>\n",
       "      <th>State</th>\n",
       "      <th>ZIP code</th>\n",
       "      <th>Tags</th>\n",
       "      <th>Consumer consent provided?</th>\n",
       "      <th>Company response to consumer</th>\n",
       "      <th>Consumer disputed?</th>\n",
       "      <th>Timely response?</th>\n",
       "      <th>Date received</th>\n",
       "      <th>Product</th>\n",
       "      <th>Issue</th>\n",
       "      <th>Submitted via</th>\n",
       "      <th>Date sent to company</th>\n",
       "    </tr>\n",
       "  </thead>\n",
       "  <tbody>\n",
       "    <tr>\n",
       "      <th>0</th>\n",
       "      <td>0</td>\n",
       "      <td>2535701</td>\n",
       "      <td>Conventional home mortgage</td>\n",
       "      <td>NaN</td>\n",
       "      <td>NaN</td>\n",
       "      <td>NaN</td>\n",
       "      <td>Caliber Home Loans, Inc.</td>\n",
       "      <td>FL</td>\n",
       "      <td>34744</td>\n",
       "      <td>NaN</td>\n",
       "      <td>NaN</td>\n",
       "      <td>Closed with explanation</td>\n",
       "      <td>NaN</td>\n",
       "      <td>Yes</td>\n",
       "      <td>2569</td>\n",
       "      <td>10</td>\n",
       "      <td>139</td>\n",
       "      <td>1</td>\n",
       "      <td>2300</td>\n",
       "    </tr>\n",
       "    <tr>\n",
       "      <th>1</th>\n",
       "      <td>1</td>\n",
       "      <td>3314889</td>\n",
       "      <td>General-purpose credit card or charge card</td>\n",
       "      <td>Credit card company isn't resolving a dispute ...</td>\n",
       "      <td>On XX/XX/2019 all of my credit and debit cards...</td>\n",
       "      <td>Company has responded to the consumer and the ...</td>\n",
       "      <td>WELLS FARGO &amp; COMPANY</td>\n",
       "      <td>CA</td>\n",
       "      <td>900XX</td>\n",
       "      <td>NaN</td>\n",
       "      <td>Consent provided</td>\n",
       "      <td>Closed with explanation</td>\n",
       "      <td>NaN</td>\n",
       "      <td>Yes</td>\n",
       "      <td>2715</td>\n",
       "      <td>4</td>\n",
       "      <td>117</td>\n",
       "      <td>5</td>\n",
       "      <td>2669</td>\n",
       "    </tr>\n",
       "    <tr>\n",
       "      <th>2</th>\n",
       "      <td>2</td>\n",
       "      <td>3612478</td>\n",
       "      <td>Credit reporting</td>\n",
       "      <td>Information belongs to someone else</td>\n",
       "      <td>I was made aware of a negative account and inq...</td>\n",
       "      <td>NaN</td>\n",
       "      <td>EQUIFAX, INC.</td>\n",
       "      <td>CA</td>\n",
       "      <td>945XX</td>\n",
       "      <td>NaN</td>\n",
       "      <td>Consent provided</td>\n",
       "      <td>Closed with explanation</td>\n",
       "      <td>NaN</td>\n",
       "      <td>Yes</td>\n",
       "      <td>1852</td>\n",
       "      <td>6</td>\n",
       "      <td>75</td>\n",
       "      <td>5</td>\n",
       "      <td>1817</td>\n",
       "    </tr>\n",
       "    <tr>\n",
       "      <th>3</th>\n",
       "      <td>3</td>\n",
       "      <td>2069704</td>\n",
       "      <td>Checking account</td>\n",
       "      <td>NaN</td>\n",
       "      <td>NaN</td>\n",
       "      <td>Company has responded to the consumer and the ...</td>\n",
       "      <td>BANK OF AMERICA, NATIONAL ASSOCIATION</td>\n",
       "      <td>TX</td>\n",
       "      <td>77014</td>\n",
       "      <td>NaN</td>\n",
       "      <td>NaN</td>\n",
       "      <td>Closed with monetary relief</td>\n",
       "      <td>No</td>\n",
       "      <td>Yes</td>\n",
       "      <td>2946</td>\n",
       "      <td>0</td>\n",
       "      <td>54</td>\n",
       "      <td>2</td>\n",
       "      <td>2907</td>\n",
       "    </tr>\n",
       "    <tr>\n",
       "      <th>4</th>\n",
       "      <td>4</td>\n",
       "      <td>3354927</td>\n",
       "      <td>Auto debt</td>\n",
       "      <td>Threatened or suggested your credit would be d...</td>\n",
       "      <td>NaN</td>\n",
       "      <td>NaN</td>\n",
       "      <td>Bridgecrest Acceptance Corporation</td>\n",
       "      <td>PA</td>\n",
       "      <td>19143</td>\n",
       "      <td>Servicemember</td>\n",
       "      <td>Consent not provided</td>\n",
       "      <td>Closed with explanation</td>\n",
       "      <td>NaN</td>\n",
       "      <td>Yes</td>\n",
       "      <td>3039</td>\n",
       "      <td>7</td>\n",
       "      <td>146</td>\n",
       "      <td>5</td>\n",
       "      <td>2991</td>\n",
       "    </tr>\n",
       "  </tbody>\n",
       "</table>\n",
       "</div>"
      ],
      "text/plain": [
       "   Unnamed: 0  Complaint_ID                                 Sub-product  \\\n",
       "0           0       2535701                  Conventional home mortgage   \n",
       "1           1       3314889  General-purpose credit card or charge card   \n",
       "2           2       3612478                            Credit reporting   \n",
       "3           3       2069704                            Checking account   \n",
       "4           4       3354927                                   Auto debt   \n",
       "\n",
       "                                           Sub-issue  \\\n",
       "0                                                NaN   \n",
       "1  Credit card company isn't resolving a dispute ...   \n",
       "2                Information belongs to someone else   \n",
       "3                                                NaN   \n",
       "4  Threatened or suggested your credit would be d...   \n",
       "\n",
       "                        Consumer complaint narrative  \\\n",
       "0                                                NaN   \n",
       "1  On XX/XX/2019 all of my credit and debit cards...   \n",
       "2  I was made aware of a negative account and inq...   \n",
       "3                                                NaN   \n",
       "4                                                NaN   \n",
       "\n",
       "                             Company public response  \\\n",
       "0                                                NaN   \n",
       "1  Company has responded to the consumer and the ...   \n",
       "2                                                NaN   \n",
       "3  Company has responded to the consumer and the ...   \n",
       "4                                                NaN   \n",
       "\n",
       "                                 Company State ZIP code           Tags  \\\n",
       "0               Caliber Home Loans, Inc.    FL    34744            NaN   \n",
       "1                  WELLS FARGO & COMPANY    CA    900XX            NaN   \n",
       "2                          EQUIFAX, INC.    CA    945XX            NaN   \n",
       "3  BANK OF AMERICA, NATIONAL ASSOCIATION    TX    77014            NaN   \n",
       "4     Bridgecrest Acceptance Corporation    PA    19143  Servicemember   \n",
       "\n",
       "  Consumer consent provided? Company response to consumer Consumer disputed?  \\\n",
       "0                        NaN      Closed with explanation                NaN   \n",
       "1           Consent provided      Closed with explanation                NaN   \n",
       "2           Consent provided      Closed with explanation                NaN   \n",
       "3                        NaN  Closed with monetary relief                 No   \n",
       "4       Consent not provided      Closed with explanation                NaN   \n",
       "\n",
       "  Timely response?  Date received  Product  Issue  Submitted via  \\\n",
       "0              Yes           2569       10    139              1   \n",
       "1              Yes           2715        4    117              5   \n",
       "2              Yes           1852        6     75              5   \n",
       "3              Yes           2946        0     54              2   \n",
       "4              Yes           3039        7    146              5   \n",
       "\n",
       "   Date sent to company  \n",
       "0                  2300  \n",
       "1                  2669  \n",
       "2                  1817  \n",
       "3                  2907  \n",
       "4                  2991  "
      ]
     },
     "execution_count": 266,
     "metadata": {},
     "output_type": "execute_result"
    }
   ],
   "source": [
    "data.head()"
   ]
  },
  {
   "cell_type": "code",
   "execution_count": 267,
   "metadata": {},
   "outputs": [],
   "source": [
    "data['Sub-product'].fillna('ajajaja',inplace=True)"
   ]
  },
  {
   "cell_type": "code",
   "execution_count": 268,
   "metadata": {},
   "outputs": [],
   "source": [
    "data['Sub-issue'].fillna('akakaka',inplace=True)"
   ]
  },
  {
   "cell_type": "code",
   "execution_count": 269,
   "metadata": {},
   "outputs": [],
   "source": [
    "data['Consumer complaint narrative'].fillna('asasasa',inplace=True)"
   ]
  },
  {
   "cell_type": "code",
   "execution_count": 270,
   "metadata": {},
   "outputs": [],
   "source": [
    "data['Company public response'].fillna('atatata',inplace=True)"
   ]
  },
  {
   "cell_type": "code",
   "execution_count": 271,
   "metadata": {},
   "outputs": [],
   "source": [
    "data['State'].fillna('alalala',inplace=True)"
   ]
  },
  {
   "cell_type": "code",
   "execution_count": 272,
   "metadata": {},
   "outputs": [],
   "source": [
    "data['ZIP code'].fillna('apapapa',inplace=True)"
   ]
  },
  {
   "cell_type": "code",
   "execution_count": 273,
   "metadata": {},
   "outputs": [],
   "source": [
    "data['Tags'].fillna('aqaqaqa',inplace=True)"
   ]
  },
  {
   "cell_type": "code",
   "execution_count": 274,
   "metadata": {},
   "outputs": [],
   "source": [
    "data['Consumer consent provided?'].fillna('ahahaha',inplace=True)"
   ]
  },
  {
   "cell_type": "code",
   "execution_count": 275,
   "metadata": {},
   "outputs": [],
   "source": [
    "data['Company response to consumer'].fillna('adadada',inplace=True)"
   ]
  },
  {
   "cell_type": "code",
   "execution_count": 276,
   "metadata": {},
   "outputs": [],
   "source": [
    "data['Consumer disputed?'].fillna('aoaoaoa',inplace=True)"
   ]
  },
  {
   "cell_type": "code",
   "execution_count": 277,
   "metadata": {},
   "outputs": [
    {
     "name": "stdout",
     "output_type": "stream",
     "text": [
      "<class 'pandas.core.frame.DataFrame'>\n",
      "RangeIndex: 1048575 entries, 0 to 1048574\n",
      "Data columns (total 19 columns):\n",
      " #   Column                        Non-Null Count    Dtype \n",
      "---  ------                        --------------    ----- \n",
      " 0   Unnamed: 0                    1048575 non-null  int64 \n",
      " 1   Complaint_ID                  1048575 non-null  int64 \n",
      " 2   Sub-product                   1048575 non-null  object\n",
      " 3   Sub-issue                     1048575 non-null  object\n",
      " 4   Consumer complaint narrative  1048575 non-null  object\n",
      " 5   Company public response       1048575 non-null  object\n",
      " 6   Company                       1048575 non-null  object\n",
      " 7   State                         1048575 non-null  object\n",
      " 8   ZIP code                      1048575 non-null  object\n",
      " 9   Tags                          1048575 non-null  object\n",
      " 10  Consumer consent provided?    1048575 non-null  object\n",
      " 11  Company response to consumer  1048575 non-null  object\n",
      " 12  Consumer disputed?            1048575 non-null  object\n",
      " 13  Timely response?              1048575 non-null  object\n",
      " 14  Date received                 1048575 non-null  int32 \n",
      " 15  Product                       1048575 non-null  int32 \n",
      " 16  Issue                         1048575 non-null  int32 \n",
      " 17  Submitted via                 1048575 non-null  int32 \n",
      " 18  Date sent to company          1048575 non-null  int32 \n",
      "dtypes: int32(5), int64(2), object(12)\n",
      "memory usage: 132.0+ MB\n"
     ]
    }
   ],
   "source": [
    "data.info()"
   ]
  },
  {
   "cell_type": "code",
   "execution_count": 278,
   "metadata": {},
   "outputs": [],
   "source": [
    "t=encode.fit_transform(data['Sub-product'])\n",
    "data.drop(columns='Sub-product',inplace=True)\n",
    "data['Sub-product']=t"
   ]
  },
  {
   "cell_type": "code",
   "execution_count": 279,
   "metadata": {},
   "outputs": [],
   "source": [
    "t=encode.fit_transform(data['Sub-issue'])\n",
    "data.drop(columns='Sub-issue',inplace=True)\n",
    "data['Sub-issue']=t"
   ]
  },
  {
   "cell_type": "code",
   "execution_count": 280,
   "metadata": {},
   "outputs": [],
   "source": [
    "t=encode.fit_transform(data['Consumer complaint narrative'])\n",
    "data.drop(columns='Consumer complaint narrative',inplace=True)\n",
    "data['Consumer complaint narrative']=t"
   ]
  },
  {
   "cell_type": "code",
   "execution_count": 281,
   "metadata": {},
   "outputs": [],
   "source": [
    "t=encode.fit_transform(data['Company public response'])\n",
    "data.drop(columns='Company public response',inplace=True)\n",
    "data['Company public response']=t"
   ]
  },
  {
   "cell_type": "code",
   "execution_count": 282,
   "metadata": {},
   "outputs": [],
   "source": [
    "t=encode.fit_transform(data['State'])\n",
    "data.drop(columns='State',inplace=True)\n",
    "data['State']=t"
   ]
  },
  {
   "cell_type": "code",
   "execution_count": 283,
   "metadata": {},
   "outputs": [],
   "source": [
    "t=encode.fit_transform(data['ZIP code'])\n",
    "data.drop(columns='ZIP code',inplace=True)\n",
    "data['ZIP code']=t"
   ]
  },
  {
   "cell_type": "code",
   "execution_count": 284,
   "metadata": {},
   "outputs": [],
   "source": [
    "t=encode.fit_transform(data['Tags'])\n",
    "data.drop(columns='Tags',inplace=True)\n",
    "data['Tags']=t"
   ]
  },
  {
   "cell_type": "code",
   "execution_count": 285,
   "metadata": {},
   "outputs": [],
   "source": [
    "t=encode.fit_transform(data['Consumer consent provided?'])\n",
    "data.drop(columns='Consumer consent provided?',inplace=True)\n",
    "data['Consumer consent provided?']=t"
   ]
  },
  {
   "cell_type": "code",
   "execution_count": 286,
   "metadata": {},
   "outputs": [],
   "source": [
    "t=encode.fit_transform(data['Company response to consumer'])\n",
    "data.drop(columns='Company response to consumer',inplace=True)\n",
    "data['Company response to consumer']=t"
   ]
  },
  {
   "cell_type": "code",
   "execution_count": 287,
   "metadata": {},
   "outputs": [],
   "source": [
    "t=encode.fit_transform(data['Consumer disputed?'])\n",
    "data.drop(columns='Consumer disputed?',inplace=True)\n",
    "data['Consumer disputed?']=t"
   ]
  },
  {
   "cell_type": "code",
   "execution_count": 288,
   "metadata": {},
   "outputs": [],
   "source": [
    "t=encode.fit_transform(data['Company'])\n",
    "data.drop(columns='Company',inplace=True)\n",
    "data['Comapany']=t"
   ]
  },
  {
   "cell_type": "code",
   "execution_count": 289,
   "metadata": {},
   "outputs": [],
   "source": [
    "t=encode.fit_transform(data['Timely response?'])\n",
    "data.drop(columns='Timely response?',inplace=True)\n",
    "data['Timely response?']=t"
   ]
  },
  {
   "cell_type": "code",
   "execution_count": null,
   "metadata": {},
   "outputs": [],
   "source": []
  },
  {
   "cell_type": "code",
   "execution_count": 290,
   "metadata": {},
   "outputs": [
    {
     "data": {
      "text/plain": [
       "<AxesSubplot:>"
      ]
     },
     "execution_count": 290,
     "metadata": {},
     "output_type": "execute_result"
    },
    {
     "data": {
      "image/png": "[encoded data removed]",
      "text/plain": [
       "<Figure size 432x288 with 2 Axes>"
      ]
     },
     "metadata": {
      "needs_background": "light"
     },
     "output_type": "display_data"
    }
   ],
   "source": [
    "sns.heatmap(data.corr())"
   ]
  },
  {
   "cell_type": "code",
   "execution_count": null,
   "metadata": {},
   "outputs": [],
   "source": []
  },
  {
   "cell_type": "code",
   "execution_count": 291,
   "metadata": {
    "scrolled": true
   },
   "outputs": [],
   "source": [
    "data.to_csv('train_final.csv')"
   ]
  },
  {
   "cell_type": "code",
   "execution_count": null,
   "metadata": {},
   "outputs": [],
   "source": []
  }
 ],
 "metadata": {
  "kernelspec": {
   "display_name": "Python 3",
   "language": "python",
   "name": "python3"
  },
  "language_info": {
   "codemirror_mode": {
    "name": "ipython",
    "version": 3
   },
   "file_extension": ".py",
   "mimetype": "text/x-python",
   "name": "python",
   "nbconvert_exporter": "python",
   "pygments_lexer": "ipython3",
   "version": "3.8.5"
  }
 },
 "nbformat": 4,
 "nbformat_minor": 4
}
